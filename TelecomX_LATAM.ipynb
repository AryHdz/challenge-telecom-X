{
  "cells": [
    {
      "cell_type": "markdown",
      "metadata": {
        "id": "4foVEKhrlqcH"
      },
      "source": [
        "#📌 Extracción"
      ]
    },
    {
      "cell_type": "code",
      "execution_count": null,
      "metadata": {
        "id": "1--uPM88l7JH"
      },
      "outputs": [],
      "source": [
        "import pandas as pd\n",
        "import requests\n",
        "import json\n",
        "\n",
        "# URL de la API proporcionada\n",
        "url = 'https://raw.githubusercontent.com/ingridcristh/challenge2-data-science-LATAM/main/TelecomX_Data.json'\n",
        "\n",
        "# Cargar los datos desde la API\n",
        "try:\n",
        "    response = requests.get(url)\n",
        "    response.raise_for_status()  # Verificar si hubo errores en la solicitud\n",
        "    \n",
        "    # Cargar los datos JSON\n",
        "    data = response.json()\n",
        "    \n",
        "    # Convertir a DataFrame de Pandas\n",
        "    df = pd.DataFrame(data)\n",
        "    \n",
        "    print(\"Datos cargados exitosamente!\")\n",
        "    print(f\"El DataFrame tiene {df.shape[0]} filas y {df.shape[1]} columnas\")\n",
        "    print(\"\\nPrimeras filas del DataFrame:\")\n",
        "    print(df.head())\n",
        "    \n",
        "except requests.exceptions.RequestException as e:\n",
        "    print(f\"Error al cargar los datos desde la API: {e}\")\n",
        "except json.JSONDecodeError as e:\n",
        "    print(f\"Error al decodificar el JSON: {e}\")\n",
        "except Exception as e:\n",
        "    print(f\"Error inesperado: {e}\")\n",
        "\n",
        "# Si todo salió bien, podemos continuar con el análisis exploratorio\n",
        "if 'df' in locals():\n",
        "    # Mostrar información básica del DataFrame\n",
        "    print(\"\\nInformación del DataFrame:\")\n",
        "    print(df.info())\n",
        "    \n",
        "    # Estadísticas descriptivas\n",
        "    print(\"\\nEstadísticas descriptivas:\")\n",
        "    print(df.describe(include='all'))"
      ]
    },
    {
      "cell_type": "markdown",
      "metadata": {
        "id": "1lSZP8zmmGZu"
      },
      "source": [
        "#🔧 Transformación"
      ]
    },
    {
      "cell_type": "code",
      "execution_count": null,
      "metadata": {
        "id": "bsm-WTLjmHvt"
      },
      "outputs": [],
      "source": []
    },
    {
      "cell_type": "markdown",
      "metadata": {
        "id": "6XnTC2NTmMRL"
      },
      "source": [
        "#📊 Carga y análisis"
      ]
    },
    {
      "cell_type": "code",
      "execution_count": null,
      "metadata": {
        "id": "1jgUnLqTmPdd"
      },
      "outputs": [],
      "source": []
    },
    {
      "cell_type": "markdown",
      "metadata": {
        "id": "v-WzfSvTmaw9"
      },
      "source": [
        "#📄Informe final"
      ]
    },
    {
      "cell_type": "code",
      "execution_count": null,
      "metadata": {
        "id": "XMTac0YJmeK9"
      },
      "outputs": [],
      "source": []
    }
  ],
  "metadata": {
    "colab": {
      "provenance": []
    },
    "kernelspec": {
      "display_name": "Python 3",
      "name": "python3"
    },
    "language_info": {
      "name": "python"
    }
  },
  "nbformat": 4,
  "nbformat_minor": 0
}
